{
 "cells": [
  {
   "cell_type": "markdown",
   "metadata": {},
   "source": [
    "### Add to Array-Form of Integer"
   ]
  },
  {
   "cell_type": "markdown",
   "metadata": {},
   "source": [
    "For a non-negative integer X, the array-form of X is an array of its digits in left to right order.  For example, if X = 1231, then the array form is [1, 2, 3, 1].\n",
    "\n",
    "Given the array-form A of a non-negative integer X, return the array-form of the integer X+K.\n",
    "##### Example 1:\n",
    "Input: A = [1, 2, 0, 0], K = 34\n",
    "\n",
    "Output: [1, 2, 3, 4]\n",
    "\n",
    "Explanation: 1200 + 34 = 1234\n",
    "##### Example 2:\n",
    "Input: A = [2, 7, 4], K = 181\n",
    "\n",
    "Output: [4, 5, 5]\n",
    "\n",
    "Explanation: 274 + 181 = 455\n",
    "##### Example 3:\n",
    "Input: A = [2, 1, 5], K = 806\n",
    "\n",
    "Output: [1, 0, 2, 1]\n",
    "\n",
    "Explanation: 215 + 806 = 1021\n",
    "##### Example 4:\n",
    "Input: A = [9, 9, 9, 9, 9, 9, 9, 9, 9, 9], K = 1\n",
    "\n",
    "Output: [1, 0, 0, 0, 0, 0, 0, 0, 0, 0, 0]\n",
    "\n",
    "Explanation: 9999999999 + 1 = 10000000000"
   ]
  },
  {
   "cell_type": "markdown",
   "metadata": {},
   "source": [
    "### Brief analysis\n",
    "use map function to convert the list to number."
   ]
  },
  {
   "cell_type": "code",
   "execution_count": 1,
   "metadata": {},
   "outputs": [],
   "source": [
    "def addToArrayForm(A, K: int) -> list:\n",
    "    num = int(''.join(map(str, A))) + K\n",
    "        \n",
    "    return [int(x) for x in str(num)]"
   ]
  },
  {
   "cell_type": "code",
   "execution_count": null,
   "metadata": {},
   "outputs": [],
   "source": [
    "from IPython.display import Image\n",
    "Image(filename=\"/Users/xlyue/Documents/leetcode practice/1559145006303.jpg\",width=400,height=400)"
   ]
  }
 ],
 "metadata": {
  "kernelspec": {
   "display_name": "Python 3",
   "language": "python",
   "name": "python3"
  },
  "language_info": {
   "codemirror_mode": {
    "name": "ipython",
    "version": 3
   },
   "file_extension": ".py",
   "mimetype": "text/x-python",
   "name": "python",
   "nbconvert_exporter": "python",
   "pygments_lexer": "ipython3",
   "version": "3.6.8"
  }
 },
 "nbformat": 4,
 "nbformat_minor": 2
}
